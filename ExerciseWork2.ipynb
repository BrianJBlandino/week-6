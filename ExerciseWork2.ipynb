{
 "cells": [
  {
   "cell_type": "code",
   "execution_count": 3,
   "id": "f46d54aa",
   "metadata": {},
   "outputs": [],
   "source": [
    "class Genius:\n",
    "    def __init__(self, access_token: str):\n",
    "        self.access_token = access_token\n"
   ]
  },
  {
   "cell_type": "code",
   "execution_count": 4,
   "id": "7c0a85c1",
   "metadata": {},
   "outputs": [],
   "source": [
    "def get_artist(self, search_term: str) -> dict:\n",
    "    \"\"\"Extracts the \"Primary\" Artist ID from the first hit of the search term,\n",
    "    uses the API path for this Artist ID to pull information about the artist,\n",
    "    and returns the dictionary containing the resulting JSON object.\"\"\"\n",
    "    \n",
    "    # Search for the artist\n",
    "    search_url = f\"{self.base_url}/search\"\n",
    "    params = {\"q\": search_term}\n",
    "    response = requests.get(search_url, headers=self.headers, params=params)\n",
    "        \n",
    "    # Check for a successful response\n",
    "    if response.status_code != 200:\n",
    "        raise Exception(f\"Error: Unable to fetch search results. Status code: {response.status_code}\")\n",
    "        \n",
    "    search_results = response.json()\n",
    "        \n",
    "    # Extract the first hit's \"Primary\" Artist ID\n",
    "    try:\n",
    "        first_hit = search_results[\"response\"][\"hits\"][0]  # First search result\n",
    "        artist_id = first_hit[\"result\"][\"primary_artist\"][\"id\"]\n",
    "    except (IndexError, KeyError):\n",
    "        raise Exception(\"Error: Unable to extract artist information from search results.\")\n",
    "        \n",
    "    # Get artist information using the Artist ID\n",
    "    artist_url = f\"{self.base_url}/artists/{artist_id}\"\n",
    "    artist_response = requests.get(artist_url, headers=self.headers)\n",
    "        \n",
    "    # Check for a successful response\n",
    "    if artist_response.status_code != 200:\n",
    "        raise Exception(f\"Error: Unable to fetch artist information. Status code: {artist_response.status_code}\")\n",
    "        \n",
    "    return artist_response.json()"
   ]
  },
  {
   "cell_type": "code",
   "execution_count": null,
   "id": "b4f4e3d6",
   "metadata": {},
   "outputs": [],
   "source": []
  }
 ],
 "metadata": {
  "kernelspec": {
   "display_name": "base",
   "language": "python",
   "name": "python3"
  },
  "language_info": {
   "codemirror_mode": {
    "name": "ipython",
    "version": 3
   },
   "file_extension": ".py",
   "mimetype": "text/x-python",
   "name": "python",
   "nbconvert_exporter": "python",
   "pygments_lexer": "ipython3",
   "version": "3.11.13"
  }
 },
 "nbformat": 4,
 "nbformat_minor": 5
}
