{
 "cells": [
  {
   "cell_type": "code",
   "execution_count": 3,
   "id": "409bbe33",
   "metadata": {},
   "outputs": [],
   "source": [
    "import os"
   ]
  },
  {
   "cell_type": "code",
   "execution_count": 7,
   "id": "b689ff8e",
   "metadata": {},
   "outputs": [],
   "source": [
    "from dotenv import load_dotenv"
   ]
  },
  {
   "cell_type": "code",
   "execution_count": 8,
   "id": "b697ea51",
   "metadata": {},
   "outputs": [
    {
     "data": {
      "text/plain": [
       "False"
      ]
     },
     "execution_count": 8,
     "metadata": {},
     "output_type": "execute_result"
    }
   ],
   "source": [
    "load_dotenv()"
   ]
  },
  {
   "cell_type": "code",
   "execution_count": null,
   "id": "c71bf725",
   "metadata": {},
   "outputs": [],
   "source": [
    "load_dotenv()\n",
    "import os\n",
    "class Genius:\n",
    "    \"\"\"Creating a class to interact with the Genius API.\n",
    "    The access token is saved as an attribute for later use.\"\"\"\n",
    "    \n",
    "    def __init__(self, access_token):\n",
    "        \n",
    "        # Save the access token as an instance attribute\n",
    "        self.access_token = access_token\n",
    "    \n",
    "        def get_artist(self, search_term):\n",
    "            \"\"\"Extracts artist information from Genius API based on search term.\"\"\"\n",
    "        \n",
    "        # Step 1: Search for the artist\n",
    "        search_url = f\"http://api.genius.com/search?q={search_term}\"\n",
    "        headers = {\"Authorization\": f\"Bearer {self.access_token}\"}\n",
    "        \n",
    "        # Send the request to the Genius API\n",
    "        response = requests.get(search_url, headers=headers)\n",
    "        response.raise_for_status()  # Raise error if the request fails\n",
    "        json_data = response.json()\n",
    "        \n",
    "        # Step 2: Extract artist information (ID and API path)\n",
    "        # Get the first hit from the search results\n",
    "        first_hit = json_data['response']['hits'][0]\n",
    "        artist_id = first_hit['result']['primary_artist']['id']\n",
    "        artist_api_path = first_hit['result']['primary_artist']['api_path']\n",
    "        \n",
    "        # Step 3: Use the API path to pull artist information\n",
    "        artist_url = f\"http://api.genius.com{artist_api_path}\"\n",
    "        artist_response = requests.get(artist_url, headers=headers)\n",
    "        artist_response.raise_for_status()\n",
    "        artist_data = artist_response.json()\n",
    "        \n",
    "        # Return the artist information as a dictionary\n",
    "        return artist_data"
   ]
  },
  {
   "cell_type": "code",
   "execution_count": 19,
   "id": "e2b7466d",
   "metadata": {},
   "outputs": [
    {
     "ename": "NameError",
     "evalue": "name 'search_term' is not defined",
     "output_type": "error",
     "traceback": [
      "\u001b[31m---------------------------------------------------------------------------\u001b[39m",
      "\u001b[31mNameError\u001b[39m                                 Traceback (most recent call last)",
      "\u001b[36mCell\u001b[39m\u001b[36m \u001b[39m\u001b[32mIn[19]\u001b[39m\u001b[32m, line 1\u001b[39m\n\u001b[32m----> \u001b[39m\u001b[32m1\u001b[39m genius = \u001b[43mGenius\u001b[49m\u001b[43m(\u001b[49m\u001b[43maccess_token\u001b[49m\u001b[43m \u001b[49m\u001b[43m=\u001b[49m\u001b[43m \u001b[49m\u001b[33;43m'\u001b[39;49m\u001b[33;43myour_access_token\u001b[39;49m\u001b[33;43m'\u001b[39;49m\u001b[43m)\u001b[49m\n\u001b[32m      2\u001b[39m artist_info = genius.get_artist(\u001b[33m'\u001b[39m\u001b[33mRadiohead\u001b[39m\u001b[33m'\u001b[39m)\n",
      "\u001b[36mCell\u001b[39m\u001b[36m \u001b[39m\u001b[32mIn[17]\u001b[39m\u001b[32m, line 14\u001b[39m, in \u001b[36mGenius.__init__\u001b[39m\u001b[34m(self, access_token)\u001b[39m\n\u001b[32m     11\u001b[39m \u001b[38;5;250m    \u001b[39m\u001b[33;03m\"\"\"Extracts artist information from Genius API based on search term.\"\"\"\u001b[39;00m\n\u001b[32m     13\u001b[39m \u001b[38;5;66;03m# Step 1: Search for the artist\u001b[39;00m\n\u001b[32m---> \u001b[39m\u001b[32m14\u001b[39m search_url = \u001b[33mf\u001b[39m\u001b[33m\"\u001b[39m\u001b[33mhttp://api.genius.com/search?q=\u001b[39m\u001b[38;5;132;01m{\u001b[39;00m\u001b[43msearch_term\u001b[49m\u001b[38;5;132;01m}\u001b[39;00m\u001b[33m\"\u001b[39m\n\u001b[32m     15\u001b[39m headers = {\u001b[33m\"\u001b[39m\u001b[33mAuthorization\u001b[39m\u001b[33m\"\u001b[39m: \u001b[33mf\u001b[39m\u001b[33m\"\u001b[39m\u001b[33mBearer \u001b[39m\u001b[38;5;132;01m{\u001b[39;00m\u001b[38;5;28mself\u001b[39m.access_token\u001b[38;5;132;01m}\u001b[39;00m\u001b[33m\"\u001b[39m}\n\u001b[32m     17\u001b[39m \u001b[38;5;66;03m# Send the request to the Genius API\u001b[39;00m\n",
      "\u001b[31mNameError\u001b[39m: name 'search_term' is not defined"
     ]
    }
   ],
   "source": [
    "genius = Genius(access_token = 'your_access_token')\n",
    "artist_info = genius.get_artist('Radiohead')"
   ]
  }
 ],
 "metadata": {
  "kernelspec": {
   "display_name": "base",
   "language": "python",
   "name": "python3"
  },
  "language_info": {
   "codemirror_mode": {
    "name": "ipython",
    "version": 3
   },
   "file_extension": ".py",
   "mimetype": "text/x-python",
   "name": "python",
   "nbconvert_exporter": "python",
   "pygments_lexer": "ipython3",
   "version": "3.11.13"
  }
 },
 "nbformat": 4,
 "nbformat_minor": 5
}
