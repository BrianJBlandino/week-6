{
 "cells": [
  {
   "cell_type": "code",
   "execution_count": null,
   "id": "73126509",
   "metadata": {},
   "outputs": [],
   "source": [
    "import pandas as pd\n",
    "import numpy as np"
   ]
  },
  {
   "cell_type": "code",
   "execution_count": null,
   "id": "2a58e955",
   "metadata": {},
   "outputs": [],
   "source": [
    "# creating a class Genius\n",
    "class Genius:\n",
    "    def __init__(self, access_token):\n",
    "    \"\"\" Creating a function that will save the access token as an attribute of the object.\"\"\"\n",
    "        self.access_token = access_token"
   ]
  }
 ],
 "metadata": {
  "kernelspec": {
   "display_name": "base",
   "language": "python",
   "name": "python3"
  },
  "language_info": {
   "codemirror_mode": {
    "name": "ipython",
    "version": 3
   },
   "file_extension": ".py",
   "mimetype": "text/x-python",
   "name": "python",
   "nbconvert_exporter": "python",
   "pygments_lexer": "ipython3",
   "version": "3.11.13"
  }
 },
 "nbformat": 4,
 "nbformat_minor": 5
}
