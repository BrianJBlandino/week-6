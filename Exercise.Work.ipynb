{
 "cells": [
  {
   "cell_type": "code",
   "execution_count": null,
   "id": "73126509",
   "metadata": {},
   "outputs": [],
   "source": [
    "import pandas as pd\n",
    "import numpy as np"
   ]
  },
  {
   "cell_type": "code",
   "execution_count": null,
   "id": "2a58e955",
   "metadata": {},
   "outputs": [],
   "source": [
    "# creating a class Genius\n",
    "class Genius:\n",
    "    def __init__(self, access_token):\n",
    "    \"\"\"Creating a function that will save the access token as an attribute of the object.\"\"\"\n",
    "        self.access_token = access_token"
   ]
  },
  {
   "cell_type": "code",
   "execution_count": null,
   "id": "583dafdf",
   "metadata": {},
   "outputs": [
    {
     "ename": "IndentationError",
     "evalue": "expected an indented block after function definition on line 4 (4028605785.py, line 5)",
     "output_type": "error",
     "traceback": [
      "  \u001b[36mCell\u001b[39m\u001b[36m \u001b[39m\u001b[32mIn[2]\u001b[39m\u001b[32m, line 5\u001b[39m\n\u001b[31m    \u001b[39m\u001b[31m\"\"\"Creating a function that will save the access token as an attribute of the object.\"\"\"\u001b[39m\n    ^\n\u001b[31mIndentationError\u001b[39m\u001b[31m:\u001b[39m expected an indented block after function definition on line 4\n"
     ]
    }
   ],
   "source": [
    "import requests\n",
    "\n",
    "class Genius:\n",
    "    def __init__(self, access_token):\n",
    "        \"\"\"Creating a function that will save the access token as an attribute of the object.\"\"\"\n",
    "        self.access_token = access_token\n",
    "        self.base_url = \"http://api.genius.com\"\n",
    "\n",
    "    def get_artist(self, search_term):\n",
    "        \"\"\"Creating a function in order to retrieve artist information\n",
    "        for a given search term.\"\"\"\n",
    "        \n",
    "        # Search for the artist and get the first \"hit\"\n",
    "        search_url = f\"{self.base_url}/search?q={search_term}\"\n",
    "        headers = {\"Authorization\": f\"Bearer {self.access_token}\"}\n",
    "        response = requests.get(search_url, headers=headers)\n",
    "        \n",
    "        # Check for a valid response\n",
    "        if response.status_code != 200:\n",
    "            raise Exception(f\"Error: Unable to fetch data. Status code: {response.status_code}\")\n",
    "        \n",
    "        search_data = response.json()\n",
    "        hits = search_data.get(\"response\", {}).get(\"hits\", [])\n",
    "        \n",
    "        if not hits:\n",
    "            raise Exception(f\"No results found for search term: {search_term}\")\n",
    "        \n",
    "        #Extract the artist ID from the first hit\n",
    "        primary_artist_data = hits[0].get(\"result\", {}).get(\"primary_artist\", {})\n",
    "        artist_id = primary_artist_data.get(\"id\")\n",
    "        if not artist_id:\n",
    "            raise Exception(f\"Unable to extract artist ID for search term: {search_term}\")\n",
    "        \n",
    "        #Use the API path to fetch artist information\n",
    "        artist_url = f\"{self.base_url}/artists/{artist_id}\"\n",
    "        artist_response = requests.get(artist_url, headers=headers)\n",
    "        \n",
    "        # Check for a valid response\n",
    "        if artist_response.status_code != 200:\n",
    "            raise Exception(f\"Error: Unable to fetch artist data. Status code: {artist_response.status_code}\")\n",
    "        \n",
    "        artist_data = artist_response.json()\n",
    "        return artist_data"
   ]
  }
 ],
 "metadata": {
  "kernelspec": {
   "display_name": "base",
   "language": "python",
   "name": "python3"
  },
  "language_info": {
   "codemirror_mode": {
    "name": "ipython",
    "version": 3
   },
   "file_extension": ".py",
   "mimetype": "text/x-python",
   "name": "python",
   "nbconvert_exporter": "python",
   "pygments_lexer": "ipython3",
   "version": "3.11.13"
  }
 },
 "nbformat": 4,
 "nbformat_minor": 5
}
